{
 "cells": [
  {
   "cell_type": "markdown",
   "id": "fbf9c8ee-557f-4742-a0a1-7f92836437a4",
   "metadata": {},
   "source": [
    "Q1. What is Web Scraping? Why is it Used? Give three areas where Web Scraping is used to get data."
   ]
  },
  {
   "cell_type": "markdown",
   "id": "c6b0f1cc-e92c-46ce-96ab-36c5d354a40b",
   "metadata": {},
   "source": [
    "Ans:\n",
    "    \n",
    "    Web scraping: Web scraping is the process of collecting structured web data in an automated manner. \n",
    "    It is used to collect data\n",
    "    \n",
    "    Areas of web scraping:\n",
    "    1. Market research\n",
    "    2. Price Monitoring\n",
    "    3. Cyber security"
   ]
  },
  {
   "cell_type": "markdown",
   "id": "05a13d3c-79ba-488a-a270-69ef3ae252b0",
   "metadata": {},
   "source": [
    "Q2. What are the different methods used for Web Scraping?"
   ]
  },
  {
   "cell_type": "markdown",
   "id": "69f5f5b4-1696-4333-9cb0-e2a834f40729",
   "metadata": {},
   "source": [
    "Ans:\n",
    "    \n",
    "    Methods used for web scraping:\n",
    "        1. HTML parsing\n",
    "        2. DOM parsing\n",
    "        3. Verticle Aggregation\n",
    "        4. Xpath\n",
    "        5. Google sheets"
   ]
  },
  {
   "cell_type": "markdown",
   "id": "a4712404-ff3b-48c5-b3b8-12d02bbddbc2",
   "metadata": {},
   "source": [
    "Q3. What is Beautiful Soup? Why is it used?"
   ]
  },
  {
   "cell_type": "markdown",
   "id": "4d8e1b08-9d87-436b-9751-d0f8b46b222a",
   "metadata": {},
   "source": [
    "Ans:\n",
    "\n",
    "Beautiful Soup is a Python package for parsing HTML and XML documents (including having malformed markup, i.e. non-closed tags, so named after tag soup).\n",
    "It is used for web scraping."
   ]
  },
  {
   "cell_type": "markdown",
   "id": "b9769d96-9492-43fb-8ba4-29e100e3d4af",
   "metadata": {},
   "source": [
    "Q4. Why is flask used in this Web Scraping project?"
   ]
  },
  {
   "cell_type": "markdown",
   "id": "385ebbda-076f-4764-b24e-43d1ab6a204a",
   "metadata": {},
   "source": [
    "Ans:\n",
    "    Flask is a lightweight framework. It is also beginner friendly and easy to learn. That'swhy used in this project."
   ]
  },
  {
   "cell_type": "markdown",
   "id": "858fc5f6-40e0-4e87-84a2-5cf12fd23bc8",
   "metadata": {},
   "source": [
    "Q5. Write the names of AWS services used in this project. Also, explain the use of each service."
   ]
  },
  {
   "cell_type": "markdown",
   "id": "147791d5-e7e3-4fed-bd76-c689564a127b",
   "metadata": {},
   "source": [
    "Ans:\n",
    "    \n",
    "    1. Code Pipeline:  AWS CodePipeline is a continuous delivery service we can use to model, visualize, and automate the steps required to release your software. \n",
    "    2. Bean Stack: We can quickly deploy and manage applications in the AWS Cloud without having to learn about the infrastructure that runs those."
   ]
  },
  {
   "cell_type": "code",
   "execution_count": null,
   "id": "c00a1e22-fe92-495c-8e4a-23537db4c4cf",
   "metadata": {},
   "outputs": [],
   "source": []
  }
 ],
 "metadata": {
  "kernelspec": {
   "display_name": "Python 3 (ipykernel)",
   "language": "python",
   "name": "python3"
  },
  "language_info": {
   "codemirror_mode": {
    "name": "ipython",
    "version": 3
   },
   "file_extension": ".py",
   "mimetype": "text/x-python",
   "name": "python",
   "nbconvert_exporter": "python",
   "pygments_lexer": "ipython3",
   "version": "3.10.8"
  }
 },
 "nbformat": 4,
 "nbformat_minor": 5
}
